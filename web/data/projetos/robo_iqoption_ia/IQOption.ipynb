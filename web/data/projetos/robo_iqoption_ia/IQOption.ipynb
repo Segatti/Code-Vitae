{
 "cells": [
  {
   "cell_type": "code",
   "execution_count": 1,
   "id": "36dbd02d",
   "metadata": {},
   "outputs": [],
   "source": [
    "from iqoptionapi.stable_api import IQ_Option\n",
    "import os"
   ]
  },
  {
   "cell_type": "code",
   "execution_count": 4,
   "id": "3031a4a8",
   "metadata": {},
   "outputs": [
    {
     "name": "stdout",
     "output_type": "stream",
     "text": [
      "None\n",
      "None\n"
     ]
    }
   ],
   "source": [
    "email = os.getenv(\"EMAIL\", default=None)\n",
    "senha = os.getenv(\"PASS\", default=None)\n",
    "API = IQ_Option(email, senha)\n",
    "print(email)\n",
    "print(senha)"
   ]
  },
  {
   "cell_type": "code",
   "execution_count": 3,
   "id": "b9ce888b",
   "metadata": {},
   "outputs": [
    {
     "name": "stdout",
     "output_type": "stream",
     "text": [
      "Houve um erro: {\"code\":\"invalid_credentials\",\"message\":\"You entered the wrong credentials. Please ensure that your login/password is correct.\"}\n"
     ]
    }
   ],
   "source": [
    "check, reason = API.connect()\n",
    "if check:\n",
    "    print(\"Conectado com Sucesso!\")\n",
    "else:\n",
    "    print(\"Houve um erro: \"+reason)"
   ]
  },
  {
   "cell_type": "code",
   "execution_count": 18,
   "id": "d7fdacfc",
   "metadata": {},
   "outputs": [],
   "source": [
    "API.change_balance('PRACTICE')"
   ]
  },
  {
   "cell_type": "code",
   "execution_count": 19,
   "id": "cbb70199",
   "metadata": {},
   "outputs": [
    {
     "data": {
      "text/plain": [
       "'USD'"
      ]
     },
     "execution_count": 19,
     "metadata": {},
     "output_type": "execute_result"
    }
   ],
   "source": [
    "API.get_currency()"
   ]
  },
  {
   "cell_type": "code",
   "execution_count": 21,
   "id": "eb054fb3",
   "metadata": {},
   "outputs": [
    {
     "data": {
      "text/plain": [
       "{'account_status': 'NONE',\n",
       " 'address': 'Folha 25, Quadra C, Lote 28',\n",
       " 'auth_two_factor': False,\n",
       " 'avatar': '',\n",
       " 'balance': 0.0,\n",
       " 'balance_id': 1016636710,\n",
       " 'balance_type': 0,\n",
       " 'balances': [{'id': 1016636710,\n",
       "   'user_id': 126756088,\n",
       "   'type': 1,\n",
       "   'amount': 0,\n",
       "   'enrolled_amount': 0,\n",
       "   'enrolled_sum_amount': 0,\n",
       "   'hold_amount': 0,\n",
       "   'orders_amount': 0,\n",
       "   'currency': 'BRL',\n",
       "   'tournament_id': None,\n",
       "   'tournament_name': None,\n",
       "   'is_fiat': True,\n",
       "   'is_marginal': True,\n",
       "   'has_deposits': False,\n",
       "   'auth_amount': 0,\n",
       "   'equivalent': 0},\n",
       "  {'id': 1016636711,\n",
       "   'user_id': 126756088,\n",
       "   'type': 4,\n",
       "   'amount': 10000,\n",
       "   'enrolled_amount': 10000,\n",
       "   'enrolled_sum_amount': 10000,\n",
       "   'hold_amount': 0,\n",
       "   'orders_amount': 0,\n",
       "   'currency': 'USD',\n",
       "   'tournament_id': None,\n",
       "   'tournament_name': None,\n",
       "   'is_fiat': True,\n",
       "   'is_marginal': True,\n",
       "   'has_deposits': False,\n",
       "   'auth_amount': 0,\n",
       "   'equivalent': 0},\n",
       "  {'id': 1016636712,\n",
       "   'user_id': 126756088,\n",
       "   'type': 5,\n",
       "   'amount': 0,\n",
       "   'enrolled_amount': 0,\n",
       "   'enrolled_sum_amount': 0,\n",
       "   'hold_amount': 0,\n",
       "   'orders_amount': 0,\n",
       "   'currency': 'BTC',\n",
       "   'tournament_id': None,\n",
       "   'tournament_name': None,\n",
       "   'is_fiat': False,\n",
       "   'is_marginal': False,\n",
       "   'has_deposits': False,\n",
       "   'auth_amount': 0,\n",
       "   'equivalent': 0},\n",
       "  {'id': 1016636713,\n",
       "   'user_id': 126756088,\n",
       "   'type': 5,\n",
       "   'amount': 0,\n",
       "   'enrolled_amount': 0,\n",
       "   'enrolled_sum_amount': 0,\n",
       "   'hold_amount': 0,\n",
       "   'orders_amount': 0,\n",
       "   'currency': 'ETH',\n",
       "   'tournament_id': None,\n",
       "   'tournament_name': None,\n",
       "   'is_fiat': False,\n",
       "   'is_marginal': False,\n",
       "   'has_deposits': False,\n",
       "   'auth_amount': 0,\n",
       "   'equivalent': 0}],\n",
       " 'birthdate': 900576000,\n",
       " 'bonus_total_wager': 0,\n",
       " 'bonus_wager': 0,\n",
       " 'cashback_level_info': {'enabled': False},\n",
       " 'city': 'Marabá',\n",
       " 'client_category_id': 1,\n",
       " 'company_id': 2,\n",
       " 'confirmation_required': 0,\n",
       " 'confirmed_phones': [],\n",
       " 'country_id': 30,\n",
       " 'created': 1647757946,\n",
       " 'currency': 'BRL',\n",
       " 'currency_char': 'R$',\n",
       " 'currency_id': 6,\n",
       " 'demo': 0,\n",
       " 'deposit_count': 0,\n",
       " 'deposit_in_one_click': False,\n",
       " 'email': 'vittor.segatti@gmail.com',\n",
       " 'finance_state': '',\n",
       " 'first_name': 'Vittor',\n",
       " 'flag': 'BR',\n",
       " 'forget_status': {'status': 'none', 'created': None, 'expires': None},\n",
       " 'functions': [],\n",
       " 'gender': 'male',\n",
       " 'group_id': 218,\n",
       " 'id': 126756088,\n",
       " 'infeed': 1,\n",
       " 'is_activated': True,\n",
       " 'is_islamic': False,\n",
       " 'is_vip_group': False,\n",
       " 'kyc': {'status': 1,\n",
       "  'isPhoneFilled': False,\n",
       "  'isPhoneNeeded': False,\n",
       "  'isProfileFilled': False,\n",
       "  'isProfileNeeded': False,\n",
       "  'isRegulatedUser': False,\n",
       "  'daysLeftToVerify': -1,\n",
       "  'isPhoneConfirmed': False,\n",
       "  'isDocumentsNeeded': False,\n",
       "  'isDocumentsApproved': False,\n",
       "  'isDocumentsDeclined': False,\n",
       "  'isDocumentsUploaded': False,\n",
       "  'isDocumentPoaUploaded': False,\n",
       "  'isDocumentPoiUploaded': False,\n",
       "  'isDocumentsUploadSkipped': False,\n",
       "  'isPhoneConfirmationSkipped': False},\n",
       " 'kyc_confirmed': False,\n",
       " 'last_name': 'Feitosa de Morais',\n",
       " 'last_visit': False,\n",
       " 'locale': 'pt_PT',\n",
       " 'mask': 'R$ %s',\n",
       " 'messages': 0,\n",
       " 'money': {'deposit': {'min': 0, 'max': 0}, 'withdraw': {'min': 0, 'max': 0}},\n",
       " 'name': 'Vittor Feitosa de Morais',\n",
       " 'nationality': 'Brasil',\n",
       " 'need_phone_confirmation': None,\n",
       " 'new_email': '',\n",
       " 'nickname': 'Henry Morris',\n",
       " 'personal_data_policy': {'is_call_accepted': {'status': True},\n",
       "  'is_push_accepted': {'status': True},\n",
       "  'is_email_accepted': {'status': True},\n",
       "  'is_agreement_accepted': {'status': True},\n",
       "  'is_thirdparty_accepted': {'status': True}},\n",
       " 'phone': '',\n",
       " 'popup': [],\n",
       " 'postal_index': '68500000',\n",
       " 'public': 0,\n",
       " 'rate_in_one_click': False,\n",
       " 'site_id': 1,\n",
       " 'skey': '8a1c25c4bd6b2ac39346656daec136bd',\n",
       " 'socials': {},\n",
       " 'ssid': False,\n",
       " 'tc': True,\n",
       " 'timediff': -21600,\n",
       " 'tin': '',\n",
       " 'tournaments_ids': None,\n",
       " 'trade_restricted': False,\n",
       " 'trial': False,\n",
       " 'tz': 'America/Sao_Paulo',\n",
       " 'tz_offset': -180,\n",
       " 'user_circle': None,\n",
       " 'user_group': 'Brazil_Default',\n",
       " 'user_id': 126756088,\n",
       " 'welcome_splash': 0}"
      ]
     },
     "execution_count": 21,
     "metadata": {},
     "output_type": "execute_result"
    }
   ],
   "source": [
    "API.get_profile_ansyc()"
   ]
  },
  {
   "cell_type": "code",
   "execution_count": 29,
   "id": "a4ca9b06",
   "metadata": {},
   "outputs": [
    {
     "name": "stdout",
     "output_type": "stream",
     "text": [
      "USD\n",
      "87\n"
     ]
    }
   ],
   "source": [
    "active = 'EURUSD'\n",
    "print(API.get_currency())\n",
    "payout = API.get_digital_payout(active)\n",
    "print(payout)\n",
    "ALL = API.get_all_open_time()"
   ]
  },
  {
   "cell_type": "code",
   "execution_count": 30,
   "id": "2819adcb",
   "metadata": {},
   "outputs": [
    {
     "name": "stdout",
     "output_type": "stream",
     "text": [
      "True\n"
     ]
    }
   ],
   "source": [
    "print(ALL[\"binary\"][\"EURUSD\"][\"open\"])"
   ]
  },
  {
   "cell_type": "code",
   "execution_count": null,
   "id": "56f24f55",
   "metadata": {},
   "outputs": [],
   "source": []
  }
 ],
 "metadata": {
  "kernelspec": {
   "display_name": "Python 3 (ipykernel)",
   "language": "python",
   "name": "python3"
  },
  "language_info": {
   "codemirror_mode": {
    "name": "ipython",
    "version": 3
   },
   "file_extension": ".py",
   "mimetype": "text/x-python",
   "name": "python",
   "nbconvert_exporter": "python",
   "pygments_lexer": "ipython3",
   "version": "3.9.13"
  },
  "vscode": {
   "interpreter": {
    "hash": "916dbcbb3f70747c44a77c7bcd40155683ae19c65e1c03b4aa3499c5328201f1"
   }
  }
 },
 "nbformat": 4,
 "nbformat_minor": 5
}
